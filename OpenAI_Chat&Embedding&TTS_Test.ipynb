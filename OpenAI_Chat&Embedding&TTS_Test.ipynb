{
 "cells": [
  {
   "cell_type": "markdown",
   "metadata": {},
   "source": [
    "## Env Setting"
   ]
  },
  {
   "cell_type": "code",
   "execution_count": null,
   "metadata": {},
   "outputs": [],
   "source": [
    "import os\n",
    "\n",
    "OPENAI_API_BASE = \"\"\n",
    "OPENAI_API_KEY = \"\""
   ]
  },
  {
   "cell_type": "markdown",
   "metadata": {},
   "source": [
    "## OpenAI ChatCompletion(Official)"
   ]
  },
  {
   "cell_type": "code",
   "execution_count": null,
   "metadata": {},
   "outputs": [],
   "source": [
    "import openai\n",
    "\n",
    "openai.api_base = OPENAI_API_BASE or os.environ[\"OPENAI_API_BASE\"]\n",
    "openai.api_key = OPENAI_API_KEY or os.environ[\"OPENAI_API_KEY\"]\n",
    "\n",
    "messages = [{\"role\": \"user\", \"content\": \"你是谁？\"}]\n",
    "\n",
    "res = openai.ChatCompletion.create(\n",
    "    model=\"gpt-3.5-turbo\",\n",
    "    messages=messages,\n",
    "    stream=False,\n",
    ")\n",
    "\n",
    "print(res[\"choices\"][0][\"message\"][\"content\"])"
   ]
  },
  {
   "cell_type": "markdown",
   "metadata": {},
   "source": [
    "## OpenAI Embedding(Official)"
   ]
  },
  {
   "cell_type": "code",
   "execution_count": null,
   "metadata": {},
   "outputs": [],
   "source": [
    "import openai\n",
    "\n",
    "openai.api_base = OPENAI_API_BASE or os.environ[\"OPENAI_API_BASE\"]\n",
    "openai.api_key = OPENAI_API_KEY or os.environ[\"OPENAI_API_KEY\"]\n",
    "\n",
    "\n",
    "text = \"机器学习是人工智能的一个分支。\"\n",
    "\n",
    "response = openai.Embedding.create(model=\"text-embedding-002-ada\", input=text)\n",
    "\n",
    "print(\"Embedding vector:\", response)"
   ]
  },
  {
   "cell_type": "markdown",
   "metadata": {},
   "source": [
    "## LangChain OpenAI ChatCompletion"
   ]
  },
  {
   "cell_type": "code",
   "execution_count": null,
   "metadata": {},
   "outputs": [],
   "source": [
    "from langchain.chat_models import ChatOpenAI\n",
    "\n",
    "if not os.environ.get(\"OPENAI_API_BASE\"):\n",
    "    os.environ[\"OPENAI_API_BASE\"] = OPENAI_API_BASE\n",
    "\n",
    "if not os.environ.get(\"OPENAI_API_KEY\"):\n",
    "    os.environ[\"OPENAI_API_KEY\"] = OPENAI_API_KEY\n",
    "\n",
    "llm = ChatOpenAI(model=\"gpt-3.5-turbo-0125\")\n",
    "messages = [\n",
    "    (\"system\", \"You are a helpful assistant that translates English to French.\"),\n",
    "    (\n",
    "        \"human\",\n",
    "        \"Translate this sentence from Chinese to English. 我是一名上海大学人工智能研究院的学生,今年25岁。\",\n",
    "    ),\n",
    "]\n",
    "llm.invoke(messages)"
   ]
  },
  {
   "cell_type": "markdown",
   "metadata": {},
   "source": [
    "## LangChain OpenAI Embedding"
   ]
  },
  {
   "cell_type": "code",
   "execution_count": null,
   "metadata": {},
   "outputs": [],
   "source": [
    "from langchain.embeddings.openai import OpenAIEmbeddings\n",
    "\n",
    "if not os.environ.get(\"OPENAI_API_BASE\"):\n",
    "    os.environ[\"OPENAI_API_BASE\"] = OPENAI_API_BASE\n",
    "\n",
    "if not os.environ.get(\"OPENAI_API_KEY\"):\n",
    "    os.environ[\"OPENAI_API_KEY\"] = OPENAI_API_KEY\n",
    "\n",
    "embeddings = OpenAIEmbeddings()\n",
    "text = \"机器学习是人工智能的一个分支。\"\n",
    "embedding = embeddings.embed_query(text)\n",
    "print(\"Embedding vector:\", embedding)"
   ]
  },
  {
   "cell_type": "markdown",
   "metadata": {},
   "source": [
    "## OpenAI TTS"
   ]
  },
  {
   "cell_type": "code",
   "execution_count": null,
   "metadata": {},
   "outputs": [],
   "source": [
    "import json\n",
    "import time\n",
    "\n",
    "import requests\n",
    "\n",
    "text = \"我是一名上海大学人工智能研究院的学生,今年25岁。\"\n",
    "voice = \"shimmer\"  # man：\"fable\" \"onyx\" \"shimmer\"/ women：\"nova\" \"alloy\" \"echo\"\n",
    "response_format = \"wav\"\n",
    "speed = 1\n",
    "\n",
    "headers = {\n",
    "    \"Authorization\": f\"Bearer {OPENAI_API_KEY}\",\n",
    "    \"Content-Type\": \"application/json\",\n",
    "}\n",
    "url = OPENAI_API_BASE + \"/audio/speech\"\n",
    "query = {\n",
    "    \"model\": \"tts-1-hd\",  # tts-1、tts-1-hd\n",
    "    \"input\": text,\n",
    "    \"voice\": voice,\n",
    "    \"response_format\": response_format,\n",
    "    \"speed\": speed,\n",
    "}\n",
    "try:\n",
    "    response = requests.post(url=url, data=json.dumps(query), headers=headers)\n",
    "    file_url = \"sample-\" + str(int(time.time() * 1000)) + f\".{response_format}\"\n",
    "    with open(file_url, \"wb\") as audio_file:\n",
    "        audio_file.write(response.content)\n",
    "except Exception as e:\n",
    "    print(e)"
   ]
  }
 ],
 "metadata": {
  "kernelspec": {
   "display_name": "openai",
   "language": "python",
   "name": "python3"
  },
  "language_info": {
   "codemirror_mode": {
    "name": "ipython",
    "version": 3
   },
   "file_extension": ".py",
   "mimetype": "text/x-python",
   "name": "python",
   "nbconvert_exporter": "python",
   "pygments_lexer": "ipython3",
   "version": "3.10.13"
  }
 },
 "nbformat": 4,
 "nbformat_minor": 2
}
