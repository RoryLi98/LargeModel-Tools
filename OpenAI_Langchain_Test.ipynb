{
 "cells": [
  {
   "cell_type": "markdown",
   "metadata": {},
   "source": [
    "## OpenAI ChatCompletion (Official)"
   ]
  },
  {
   "cell_type": "code",
   "execution_count": null,
   "metadata": {},
   "outputs": [],
   "source": [
    "import openai\n",
    "openai.api_base = 'http://localhost:4073/v1'\n",
    "openai.api_key = 'sk-xxx'\n",
    "messages = [\n",
    "    {\"role\": \"user\", \"content\": \"你是谁？\"}\n",
    "]\n",
    "\n",
    "res = openai.ChatCompletion.create(\n",
    "    model=\"gpt-3.5-turbo\",\n",
    "    messages=messages,\n",
    "    stream=False,\n",
    ")\n",
    "\n",
    "print(res['choices'][0]['message']['content'])"
   ]
  },
  {
   "cell_type": "markdown",
   "metadata": {},
   "source": [
    "## OpenAI Embedding (Official)"
   ]
  },
  {
   "cell_type": "code",
   "execution_count": null,
   "metadata": {},
   "outputs": [],
   "source": [
    "def get_text_embedding(text):\n",
    "    response = openai.Embedding.create(\n",
    "        model=\"text-embedding-002-ada\",\n",
    "        input=text\n",
    "    )\n",
    "    return response\n",
    "\n",
    "text = \"机器学习是人工智能的一个分支。\"\n",
    "\n",
    "embedding = get_text_embedding(text)\n",
    "print(\"Embedding vector:\", embedding)"
   ]
  },
  {
   "cell_type": "markdown",
   "metadata": {},
   "source": [
    "## OpenAI ChatCompletion (LangChain)"
   ]
  },
  {
   "cell_type": "code",
   "execution_count": null,
   "metadata": {},
   "outputs": [],
   "source": [
    "from langchain_core.messages import HumanMessage, SystemMessage\n",
    "from langchain_core.prompts import ChatPromptTemplate\n",
    "from langchain.chat_models import ChatOpenAI\n",
    "\n",
    "import os\n",
    "os.environ['OPENAI_API_BASE'] = 'http://localhost:4073/v1'\n",
    "llm = ChatOpenAI(model=\"gpt-3.5-turbo-0125\")\n",
    "messages = [\n",
    "    (\"system\", \"You are a helpful assistant that translates English to French.\"),\n",
    "    (\"human\", \"Translate this sentence from English to French. I love programming.\"),\n",
    "]\n",
    "llm.invoke(messages)"
   ]
  },
  {
   "cell_type": "markdown",
   "metadata": {},
   "source": [
    "## OpenAI Embedding (LangChain)"
   ]
  },
  {
   "cell_type": "code",
   "execution_count": null,
   "metadata": {},
   "outputs": [],
   "source": [
    "from langchain.embeddings.openai import OpenAIEmbeddings\n",
    "import getpass\n",
    "import os\n",
    "os.environ['OPENAI_API_BASE'] = 'http://localhost:4073/v1'\n",
    "os.environ['OPENAI_API_KEY'] = 'sk-xx'\n",
    "embeddings = OpenAIEmbeddings()\n",
    "\n",
    "text = \"机器学习是人工智能的一个分支。\"\n",
    "embedding = embeddings.embed_query(text)\n",
    "print(\"Embedding vector:\", embedding)"
   ]
  }
 ],
 "metadata": {
  "kernelspec": {
   "display_name": "openai",
   "language": "python",
   "name": "python3"
  },
  "language_info": {
   "codemirror_mode": {
    "name": "ipython",
    "version": 3
   },
   "file_extension": ".py",
   "mimetype": "text/x-python",
   "name": "python",
   "nbconvert_exporter": "python",
   "pygments_lexer": "ipython3",
   "version": "3.10.13"
  }
 },
 "nbformat": 4,
 "nbformat_minor": 2
}
