{
 "cells": [
  {
   "cell_type": "markdown",
   "metadata": {},
   "source": [
    "## Env Setting"
   ]
  },
  {
   "cell_type": "code",
   "execution_count": null,
   "metadata": {},
   "outputs": [],
   "source": [
    "import os\n",
    "\n",
    "OPENAI_API_BASE = ''\n",
    "OPENAI_API_KEY = ''"
   ]
  },
  {
   "cell_type": "markdown",
   "metadata": {},
   "source": [
    "## OpenAI ChatCompletion (Official)"
   ]
  },
  {
   "cell_type": "code",
   "execution_count": null,
   "metadata": {},
   "outputs": [],
   "source": [
    "import openai\n",
    "openai.api_base = OPENAI_API_KEY or os.environ[\"OPENAI_API_KEY\"]\n",
    "openai.api_key = OPENAI_API_BASE or os.environ[\"OPENAI_API_BASE\"]\n",
    "\n",
    "messages = [\n",
    "    {\"role\": \"user\", \"content\": \"你是谁？\"}\n",
    "]\n",
    "\n",
    "res = openai.ChatCompletion.create(\n",
    "    model=\"gpt-3.5-turbo\",\n",
    "    messages=messages,\n",
    "    stream=False,\n",
    ")\n",
    "\n",
    "print(res['choices'][0]['message']['content'])"
   ]
  },
  {
   "cell_type": "markdown",
   "metadata": {},
   "source": [
    "## OpenAI Embedding (Official)"
   ]
  },
  {
   "cell_type": "code",
   "execution_count": null,
   "metadata": {},
   "outputs": [],
   "source": [
    "import openai\n",
    "openai.api_base = OPENAI_API_KEY or os.environ[\"OPENAI_API_KEY\"]\n",
    "openai.api_key = OPENAI_API_BASE or os.environ[\"OPENAI_API_BASE\"]\n",
    "\n",
    "\n",
    "text = \"机器学习是人工智能的一个分支。\"\n",
    "\n",
    "response = openai.Embedding.create(\n",
    "    model=\"text-embedding-002-ada\",\n",
    "    input=text\n",
    ")\n",
    "\n",
    "print(\"Embedding vector:\", response)"
   ]
  },
  {
   "cell_type": "markdown",
   "metadata": {},
   "source": [
    "## OpenAI ChatCompletion (LangChain)"
   ]
  },
  {
   "cell_type": "code",
   "execution_count": null,
   "metadata": {},
   "outputs": [],
   "source": [
    "from langchain.chat_models import ChatOpenAI\n",
    "\n",
    "if not os.environ.get('OPENAI_API_BASE'):\n",
    "    os.environ['OPENAI_API_BASE'] = OPENAI_API_BASE\n",
    "    \n",
    "if not os.environ.get('OPENAI_API_KEY'):\n",
    "    os.environ['OPENAI_API_KEY'] = OPENAI_API_KEY\n",
    "    \n",
    "llm = ChatOpenAI(model=\"gpt-3.5-turbo-0125\")\n",
    "messages = [\n",
    "    (\"system\", \"You are a helpful assistant that translates English to French.\"),\n",
    "    (\"human\", \"Translate this sentence from English to French. I love programming.\"),\n",
    "]\n",
    "llm.invoke(messages)"
   ]
  },
  {
   "cell_type": "markdown",
   "metadata": {},
   "source": [
    "## OpenAI Embedding (LangChain)"
   ]
  },
  {
   "cell_type": "code",
   "execution_count": null,
   "metadata": {},
   "outputs": [],
   "source": [
    "from langchain.embeddings.openai import OpenAIEmbeddings\n",
    "\n",
    "if not os.environ.get('OPENAI_API_BASE'):\n",
    "    os.environ['OPENAI_API_BASE'] = OPENAI_API_BASE\n",
    "    \n",
    "if not os.environ.get('OPENAI_API_KEY'):\n",
    "    os.environ['OPENAI_API_KEY'] = OPENAI_API_KEY\n",
    "    \n",
    "embeddings = OpenAIEmbeddings()\n",
    "text = \"机器学习是人工智能的一个分支。\"\n",
    "embedding = embeddings.embed_query(text)\n",
    "print(\"Embedding vector:\", embedding)"
   ]
  }
 ],
 "metadata": {
  "kernelspec": {
   "display_name": "openai",
   "language": "python",
   "name": "python3"
  },
  "language_info": {
   "codemirror_mode": {
    "name": "ipython",
    "version": 3
   },
   "file_extension": ".py",
   "mimetype": "text/x-python",
   "name": "python",
   "nbconvert_exporter": "python",
   "pygments_lexer": "ipython3",
   "version": "3.10.13"
  }
 },
 "nbformat": 4,
 "nbformat_minor": 2
}
