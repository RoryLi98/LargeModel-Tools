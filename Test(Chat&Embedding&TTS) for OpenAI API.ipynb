{
 "cells": [
  {
   "cell_type": "markdown",
   "metadata": {},
   "source": [
    "## Env Setting"
   ]
  },
  {
   "cell_type": "code",
   "execution_count": 1,
   "metadata": {},
   "outputs": [],
   "source": [
    "import os\n",
    "\n",
    "OPENAI_API_BASE = \"\"\n",
    "OPENAI_API_KEY = \"\""
   ]
  },
  {
   "cell_type": "markdown",
   "metadata": {},
   "source": [
    "## OpenAI ChatCompletion (Official)"
   ]
  },
  {
   "cell_type": "code",
   "execution_count": null,
   "metadata": {},
   "outputs": [],
   "source": [
    "from openai import OpenAI\n",
    "\n",
    "# gets API Key from environment variable OPENAI_API_KEY\n",
    "client = OpenAI(\n",
    "    api_key=OPENAI_API_KEY or os.environ[\"OPENAI_API_KEY\"],\n",
    "    base_url=OPENAI_API_BASE or os.environ[\"OPENAI_API_BASE\"],\n",
    ")\n",
    "\n",
    "# Non-streaming:\n",
    "completion = client.chat.completions.create(\n",
    "    model=\"gpt-3.5-turbo\",\n",
    "    messages=[\n",
    "        {\n",
    "            \"role\": \"user\",\n",
    "            \"content\": \"Say: Machine learning is a branch of artificial intelligence.\",\n",
    "        },\n",
    "    ],\n",
    ")\n",
    "completion.choices[0].message.content"
   ]
  },
  {
   "cell_type": "markdown",
   "metadata": {},
   "source": [
    "## OpenAI Embedding (Official)"
   ]
  },
  {
   "cell_type": "code",
   "execution_count": null,
   "metadata": {},
   "outputs": [],
   "source": [
    "from openai import OpenAI\n",
    "\n",
    "# gets API Key from environment variable OPENAI_API_KEY\n",
    "client = OpenAI(\n",
    "    api_key=OPENAI_API_KEY or os.environ[\"OPENAI_API_KEY\"],\n",
    "    base_url=OPENAI_API_BASE or os.environ[\"OPENAI_API_BASE\"],\n",
    ")\n",
    "\n",
    "text = \"Machine learning is a branch of artificial intelligence\"\n",
    "\n",
    "embeddings = client.embeddings.create(input=[text], model=\"text-embedding-002-ada\")\n",
    "embeddings"
   ]
  },
  {
   "cell_type": "markdown",
   "metadata": {},
   "source": [
    "## LangChain OpenAI ChatCompletion"
   ]
  },
  {
   "cell_type": "code",
   "execution_count": null,
   "metadata": {},
   "outputs": [],
   "source": [
    "from langchain_openai import ChatOpenAI\n",
    "\n",
    "llm = ChatOpenAI(\n",
    "    model=\"gpt-3.5-turbo\",\n",
    "    api_key=OPENAI_API_KEY or os.environ[\"OPENAI_API_KEY\"],\n",
    "    base_url=OPENAI_API_BASE or os.environ[\"OPENAI_API_BASE\"],\n",
    ")\n",
    "messages = [\n",
    "    (\n",
    "        \"system\",\n",
    "        \"You are a helpful assistant that translates English to Japanese. Translate the user sentence.\",\n",
    "    ),\n",
    "    (\"Machine learning is a branch of artificial intelligence.\"),\n",
    "]\n",
    "ai_msg = llm.invoke(messages)\n",
    "ai_msg.content"
   ]
  },
  {
   "cell_type": "markdown",
   "metadata": {},
   "source": [
    "## LangChain OpenAI Embedding"
   ]
  },
  {
   "cell_type": "code",
   "execution_count": null,
   "metadata": {},
   "outputs": [],
   "source": [
    "from langchain_openai import OpenAIEmbeddings\n",
    "\n",
    "if not os.environ.get(\"OPENAI_API_BASE\"):\n",
    "    os.environ[\"OPENAI_API_BASE\"] = OPENAI_API_BASE\n",
    "\n",
    "if not os.environ.get(\"OPENAI_API_KEY\"):\n",
    "    os.environ[\"OPENAI_API_KEY\"] = OPENAI_API_KEY\n",
    "\n",
    "embeddings = OpenAIEmbeddings()\n",
    "text = \"Machine learning is a branch of artificial intelligence\"\n",
    "embedding = embeddings.embed_query(text)\n",
    "embedding"
   ]
  },
  {
   "cell_type": "markdown",
   "metadata": {},
   "source": [
    "## OpenAI TTS (Official)"
   ]
  },
  {
   "cell_type": "code",
   "execution_count": null,
   "metadata": {},
   "outputs": [],
   "source": [
    "import time\n",
    "\n",
    "from openai import OpenAI\n",
    "\n",
    "client = OpenAI(\n",
    "    api_key=OPENAI_API_KEY or os.environ[\"OPENAI_API_KEY\"],\n",
    "    base_url=OPENAI_API_BASE or os.environ[\"OPENAI_API_BASE\"],\n",
    ")\n",
    "\n",
    "speech_file_path = \"Sample-\" + str(int(time.time() * 1000)) + \".mp3\"\n",
    "response = client.audio.speech.create(\n",
    "    model=\"tts-1\",\n",
    "    voice=\"alloy\",\n",
    "    input=\"Machine learning is a branch of artificial intelligence.\",\n",
    ")\n",
    "\n",
    "response.stream_to_file(speech_file_path)"
   ]
  },
  {
   "cell_type": "markdown",
   "metadata": {},
   "source": [
    "## ChatTTS"
   ]
  },
  {
   "cell_type": "code",
   "execution_count": 7,
   "metadata": {},
   "outputs": [],
   "source": [
    "import json\n",
    "import time\n",
    "\n",
    "import requests\n",
    "\n",
    "text = \"Machine learning is a branch of artificial intelligence.\"\n",
    "voice = \"shimmer\"  # man：\"fable\" \"onyx\" \"shimmer\"/ women：\"nova\" \"alloy\" \"echo\"\n",
    "response_format = \"wav\"\n",
    "speed = 1\n",
    "\n",
    "headers = {\n",
    "    \"Authorization\": f\"Bearer {OPENAI_API_KEY}\",\n",
    "    \"Content-Type\": \"application/json\",\n",
    "}\n",
    "url = OPENAI_API_BASE + \"/audio/speech\"\n",
    "query = {\n",
    "    \"model\": \"tts-1-hd\",  # tts-1、tts-1-hd\n",
    "    \"input\": text,\n",
    "    \"voice\": voice,\n",
    "    \"response_format\": response_format,\n",
    "    \"speed\": speed,\n",
    "}\n",
    "try:\n",
    "    response = requests.post(url=url, data=json.dumps(query), headers=headers)\n",
    "    file_url = \"sample-\" + str(int(time.time() * 1000)) + f\".{response_format}\"\n",
    "    with open(file_url, \"wb\") as audio_file:\n",
    "        audio_file.write(response.content)\n",
    "except Exception as e:\n",
    "    print(e)"
   ]
  }
 ],
 "metadata": {
  "kernelspec": {
   "display_name": "openai",
   "language": "python",
   "name": "python3"
  },
  "language_info": {
   "codemirror_mode": {
    "name": "ipython",
    "version": 3
   },
   "file_extension": ".py",
   "mimetype": "text/x-python",
   "name": "python",
   "nbconvert_exporter": "python",
   "pygments_lexer": "ipython3",
   "version": "3.10.14"
  }
 },
 "nbformat": 4,
 "nbformat_minor": 2
}
